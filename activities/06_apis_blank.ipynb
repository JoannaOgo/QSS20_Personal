{
 "cells": [
  {
   "cell_type": "code",
   "execution_count": 1,
   "metadata": {},
   "outputs": [],
   "source": [
    "## imports\n",
    "import pandas as pd\n",
    "import numpy as np\n",
    "import re\n",
    "import requests\n",
    "import yaml\n",
    "\n",
    "\n",
    "## repeated printouts\n",
    "from IPython.core.interactiveshell import InteractiveShell\n",
    "InteractiveShell.ast_node_interactivity = \"all\""
   ]
  },
  {
   "cell_type": "markdown",
   "metadata": {},
   "source": [
    "# 1. Example 1: no credentials; no wrapper\n",
    "\n",
    "Site: National Assessment of Education Progress (NAEP)\n",
    "\n",
    "Documentation: https://www.nationsreportcard.gov/api_documentation.aspx\n",
    "\n",
    "Base link: https://www.nationsreportcard.gov/DataService/GetAdhocData.aspx "
   ]
  },
  {
   "cell_type": "markdown",
   "metadata": {},
   "source": [
    "## 1.1 Query to pull some data"
   ]
  },
  {
   "cell_type": "code",
   "execution_count": 2,
   "metadata": {},
   "outputs": [
    {
     "data": {
      "text/plain": [
       "'https://www.nationsreportcard.gov/Dataservice/GetAdhocData.aspx?type=data&subject=writing&grade=8&subscale=WRIRP&variable=GENDER&jurisdiction=NP&stattype=MN:MN&Year=2011'"
      ]
     },
     "execution_count": 2,
     "metadata": {},
     "output_type": "execute_result"
    }
   ],
   "source": [
    "## using their example query of 2011 writing scores separated by gender\n",
    "## based on here - https://stackoverflow.com/questions/40836749/pythonic-way-of-writing-a-single-line-long-string\n",
    "## using the ( ) syntax to formulate a long\n",
    "## string without linebreaks added\n",
    "example_naep_query = (\n",
    "'https://www.nationsreportcard.gov/'\n",
    "'Dataservice/GetAdhocData.aspx?'\n",
    "'type=data&subject=writing&grade=8&'\n",
    "'subscale=WRIRP&variable=GENDER&jurisdiction=NP&stattype=MN:MN&Year=2011')\n",
    "\n",
    "\n",
    "example_naep_query\n"
   ]
  },
  {
   "cell_type": "code",
   "execution_count": 3,
   "metadata": {},
   "outputs": [
    {
     "data": {
      "text/plain": [
       "<Response [200]>"
      ]
     },
     "execution_count": 3,
     "metadata": {},
     "output_type": "execute_result"
    },
    {
     "name": "stdout",
     "output_type": "stream",
     "text": [
      "<class 'requests.models.Response'>\n"
     ]
    },
    {
     "data": {
      "text/plain": [
       "{'status': 200,\n",
       " 'result': [{'year': 2011,\n",
       "   'sample': 'R3',\n",
       "   'yearSampleLabel': '2011',\n",
       "   'Cohort': 2,\n",
       "   'CohortLabel': 'Grade 8',\n",
       "   'stattype': 'MN:MN',\n",
       "   'subject': 'WRI',\n",
       "   'grade': 8,\n",
       "   'scale': 'WRIRP',\n",
       "   'jurisdiction': 'NP',\n",
       "   'jurisLabel': 'National public',\n",
       "   'variable': 'GENDER',\n",
       "   'variableLabel': 'Gender',\n",
       "   'varValue': '1',\n",
       "   'varValueLabel': 'Male',\n",
       "   'value': 139.099504632971,\n",
       "   'isStatDisplayable': 1,\n",
       "   'errorFlag': 0},\n",
       "  {'year': 2011,\n",
       "   'sample': 'R3',\n",
       "   'yearSampleLabel': '2011',\n",
       "   'Cohort': 2,\n",
       "   'CohortLabel': 'Grade 8',\n",
       "   'stattype': 'MN:MN',\n",
       "   'subject': 'WRI',\n",
       "   'grade': 8,\n",
       "   'scale': 'WRIRP',\n",
       "   'jurisdiction': 'NP',\n",
       "   'jurisLabel': 'National public',\n",
       "   'variable': 'GENDER',\n",
       "   'variableLabel': 'Gender',\n",
       "   'varValue': '2',\n",
       "   'varValueLabel': 'Female',\n",
       "   'value': 158.567104984955,\n",
       "   'isStatDisplayable': 1,\n",
       "   'errorFlag': 0}]}"
      ]
     },
     "execution_count": 3,
     "metadata": {},
     "output_type": "execute_result"
    },
    {
     "data": {
      "text/html": [
       "<div>\n",
       "<style scoped>\n",
       "    .dataframe tbody tr th:only-of-type {\n",
       "        vertical-align: middle;\n",
       "    }\n",
       "\n",
       "    .dataframe tbody tr th {\n",
       "        vertical-align: top;\n",
       "    }\n",
       "\n",
       "    .dataframe thead th {\n",
       "        text-align: right;\n",
       "    }\n",
       "</style>\n",
       "<table border=\"1\" class=\"dataframe\">\n",
       "  <thead>\n",
       "    <tr style=\"text-align: right;\">\n",
       "      <th></th>\n",
       "      <th>year</th>\n",
       "      <th>sample</th>\n",
       "      <th>yearSampleLabel</th>\n",
       "      <th>Cohort</th>\n",
       "      <th>CohortLabel</th>\n",
       "      <th>stattype</th>\n",
       "      <th>subject</th>\n",
       "      <th>grade</th>\n",
       "      <th>scale</th>\n",
       "      <th>jurisdiction</th>\n",
       "      <th>jurisLabel</th>\n",
       "      <th>variable</th>\n",
       "      <th>variableLabel</th>\n",
       "      <th>varValue</th>\n",
       "      <th>varValueLabel</th>\n",
       "      <th>value</th>\n",
       "      <th>isStatDisplayable</th>\n",
       "      <th>errorFlag</th>\n",
       "    </tr>\n",
       "  </thead>\n",
       "  <tbody>\n",
       "    <tr>\n",
       "      <th>0</th>\n",
       "      <td>2011</td>\n",
       "      <td>R3</td>\n",
       "      <td>2011</td>\n",
       "      <td>2</td>\n",
       "      <td>Grade 8</td>\n",
       "      <td>MN:MN</td>\n",
       "      <td>WRI</td>\n",
       "      <td>8</td>\n",
       "      <td>WRIRP</td>\n",
       "      <td>NP</td>\n",
       "      <td>National public</td>\n",
       "      <td>GENDER</td>\n",
       "      <td>Gender</td>\n",
       "      <td>1</td>\n",
       "      <td>Male</td>\n",
       "      <td>139.099505</td>\n",
       "      <td>1</td>\n",
       "      <td>0</td>\n",
       "    </tr>\n",
       "    <tr>\n",
       "      <th>1</th>\n",
       "      <td>2011</td>\n",
       "      <td>R3</td>\n",
       "      <td>2011</td>\n",
       "      <td>2</td>\n",
       "      <td>Grade 8</td>\n",
       "      <td>MN:MN</td>\n",
       "      <td>WRI</td>\n",
       "      <td>8</td>\n",
       "      <td>WRIRP</td>\n",
       "      <td>NP</td>\n",
       "      <td>National public</td>\n",
       "      <td>GENDER</td>\n",
       "      <td>Gender</td>\n",
       "      <td>2</td>\n",
       "      <td>Female</td>\n",
       "      <td>158.567105</td>\n",
       "      <td>1</td>\n",
       "      <td>0</td>\n",
       "    </tr>\n",
       "  </tbody>\n",
       "</table>\n",
       "</div>"
      ],
      "text/plain": [
       "   year sample yearSampleLabel  Cohort CohortLabel stattype subject  grade  \\\n",
       "0  2011     R3            2011       2     Grade 8    MN:MN     WRI      8   \n",
       "1  2011     R3            2011       2     Grade 8    MN:MN     WRI      8   \n",
       "\n",
       "   scale jurisdiction       jurisLabel variable variableLabel varValue  \\\n",
       "0  WRIRP           NP  National public   GENDER        Gender        1   \n",
       "1  WRIRP           NP  National public   GENDER        Gender        2   \n",
       "\n",
       "  varValueLabel       value  isStatDisplayable  errorFlag  \n",
       "0          Male  139.099505                  1          0  \n",
       "1        Female  158.567105                  1          0  "
      ]
     },
     "execution_count": 3,
     "metadata": {},
     "output_type": "execute_result"
    }
   ],
   "source": [
    "## use requests to call the api\n",
    "naep_resp = requests.get(example_naep_query)\n",
    "naep_resp\n",
    "print(type(naep_resp))\n",
    "\n",
    "## get the json contents of the response \n",
    "## here, we're assuming valid response\n",
    "naep_resp_j = naep_resp.json()\n",
    "naep_resp_j\n",
    "\n",
    "## with result, turn it into a dataframe\n",
    "naep_resp_d = pd.DataFrame(naep_resp_j['result'])\n",
    "naep_resp_d"
   ]
  },
  {
   "cell_type": "markdown",
   "metadata": {},
   "source": [
    "## 1.2 What happens if there's an error in our query?"
   ]
  },
  {
   "cell_type": "code",
   "execution_count": 4,
   "metadata": {},
   "outputs": [
    {
     "data": {
      "text/plain": [
       "'https://www.nationsreportcard.gov/Dataservice/GetAdhocData.aspx?type=data&subject=writing&grade=8&subscale=WRIRP&variable=GENDER&jurisdiction=NP&stattype=MN:MN&Year=2025'"
      ]
     },
     "execution_count": 4,
     "metadata": {},
     "output_type": "execute_result"
    }
   ],
   "source": [
    "## here's a query that from the documentation we know\n",
    "## won't work since i modified year to 2025 which doesnt\n",
    "## exist in the data\n",
    "wrong_naep_query = (\n",
    "'https://www.nationsreportcard.gov/'\n",
    "'Dataservice/GetAdhocData.aspx?'\n",
    "'type=data&subject=writing&grade=8&'\n",
    "'subscale=WRIRP&variable=GENDER&jurisdiction=NP&stattype=MN:MN&Year=2025')\n",
    "\n",
    "wrong_naep_query"
   ]
  },
  {
   "cell_type": "code",
   "execution_count": 5,
   "metadata": {},
   "outputs": [
    {
     "data": {
      "text/plain": [
       "<Response [200]>"
      ]
     },
     "execution_count": 5,
     "metadata": {},
     "output_type": "execute_result"
    }
   ],
   "source": [
    "## use requests to call the api\n",
    "naep_wrong_resp = requests.get(wrong_naep_query)\n",
    "naep_wrong_resp"
   ]
  },
  {
   "cell_type": "code",
   "execution_count": 7,
   "metadata": {},
   "outputs": [],
   "source": [
    "## in the case of this particular api,\n",
    "## the call returns some response but\n",
    "## when we try to extract the json containing\n",
    "## status or results, we get in an error\n",
    "#naep_wrong_resp.json() # uncomment to see error"
   ]
  },
  {
   "cell_type": "markdown",
   "metadata": {},
   "source": [
    "### 1.2.2 More all-purpose way of allowing remainder of calls to run: try, except"
   ]
  },
  {
   "cell_type": "code",
   "execution_count": 8,
   "metadata": {},
   "outputs": [
    {
     "name": "stdout",
     "output_type": "stream",
     "text": [
      "Failed to get result from API due to error:\n",
      "Invalid control character at: line 1 column 289 (char 288)\n"
     ]
    }
   ],
   "source": [
    "## putting it in a try; except as general error catching\n",
    "try:\n",
    "    results = naep_wrong_resp.json()['result']\n",
    "except Exception as e:\n",
    "    print('Failed to get result from API due to error:')\n",
    "    print(e) # or just: pass"
   ]
  },
  {
   "cell_type": "markdown",
   "metadata": {},
   "source": [
    "### 1.2.3 Can usually also find more targeted way but that varies more across APIs"
   ]
  },
  {
   "cell_type": "code",
   "execution_count": 9,
   "metadata": {},
   "outputs": [
    {
     "data": {
      "text/plain": [
       "'{\"status\":400,\"result\": \"System.Exception: The query \\'SELECT DISTINCT Framework FROM Cycles WHERE Subject=\\'WRI\\' AND Cohort=2 AND CONVERT(VARCHAR(10),Year)+Sample IN (\\'2025R3\\')\\' did not return exactly 1 framework. Make sure you can trend the years defined for the given subject and cohort.\\r\\n   at NRCDataService3.GetAdhocData.GetFramework(NDEContext& ndeContext, String subjectCode, List`1 yearSamples, String cohort) in C:\\\\projects\\\\ndecore2015\\\\NRCDataService2\\\\GetAdhocData.aspx.cs:line 2091\\r\\n   at NRCDataService3.GetAdhocData.PopulateBaseOrchestratorRequest() in C:\\\\projects\\\\ndecore2015\\\\NRCDataService2\\\\GetAdhocData.aspx.cs:line 1781\\r\\n   at NRCDataService3.GetAdhocData.ConstructRequest_Datapoint() in C:\\\\projects\\\\ndecore2015\\\\NRCDataService2\\\\GetAdhocData.aspx.cs:line 628\\r\\n   at NRCDataService3.GetAdhocData.Page_Load(Object sender, EventArgs e) in C:\\\\projects\\\\ndecore2015\\\\NRCDataService2\\\\GetAdhocData.aspx.cs:line 179\"}'"
      ]
     },
     "execution_count": 9,
     "metadata": {},
     "output_type": "execute_result"
    },
    {
     "data": {
      "text/plain": [
       "'{\"status\":200,\"result\": [{\"year\":2011,\"sample\":\"R3\",\"yearSampleLabel\":\"2011\",\"Cohort\":2,\"CohortLabel\":\"Grade 8\",\"stattype\":\"MN:MN\",\"subject\":\"WRI\",\"grade\":8,\"scale\":\"WRIRP\",\"jurisdiction\":\"NP\",\"jurisLabel\":\"National public\",\"variable\":\"GENDER\",\"variableLabel\":\"Gender\",\"varValue\":\"1\",\"varValueLabel\":\"Male\",\"value\":139.099504632971,\"isStatDisplayable\":1,\"errorFlag\":0},{\"year\":2011,\"sample\":\"R3\",\"yearSampleLabel\":\"2011\",\"Cohort\":2,\"CohortLabel\":\"Grade 8\",\"stattype\":\"MN:MN\",\"subject\":\"WRI\",\"grade\":8,\"scale\":\"WRIRP\",\"jurisdiction\":\"NP\",\"jurisLabel\":\"National public\",\"variable\":\"GENDER\",\"variableLabel\":\"Gender\",\"varValue\":\"2\",\"varValueLabel\":\"Female\",\"value\":158.567104984955,\"isStatDisplayable\":1,\"errorFlag\":0}]}'"
      ]
     },
     "execution_count": 9,
     "metadata": {},
     "output_type": "execute_result"
    },
    {
     "name": "stdout",
     "output_type": "stream",
     "text": [
      "NAEP results not found\n"
     ]
    }
   ],
   "source": [
    "## if we wanted do more specific error catching,\n",
    "## see that the status == 400 actually appears here\n",
    "## so could write if else along those lines\n",
    "naep_wrong_resp.text\n",
    "naep_resp.text\n",
    "\n",
    "if \"System.Exception\" in naep_wrong_resp.text:\n",
    "    print(\"NAEP results not found\")"
   ]
  },
  {
   "cell_type": "markdown",
   "metadata": {},
   "source": [
    "## Activity 1: writing a function to make multiple, sequential calls\n",
    "\n",
    "- Say we want to pull the data for grades 4, 8, and 12\n",
    "- How can we write a function that iterates over a list of those grades and pulls the data for each grade?\n",
    "\n",
    "**Note**: an ideal function would have arguments for each parameter in the API like subject, subscale, etc. Here we can leave those other parts constant"
   ]
  },
  {
   "cell_type": "code",
   "execution_count": 15,
   "metadata": {},
   "outputs": [
    {
     "name": "stdout",
     "output_type": "stream",
     "text": [
      "Failed to get result from API due to error:\n",
      "Invalid control character at: line 1 column 110 (char 109)\n",
      "Failed to get result from API due to error:\n",
      "Invalid control character at: line 1 column 110 (char 109)\n",
      "Failed to get result from API due to error:\n",
      "Invalid control character at: line 1 column 110 (char 109)\n"
     ]
    },
    {
     "data": {
      "text/plain": [
       "{}"
      ]
     },
     "execution_count": 15,
     "metadata": {},
     "output_type": "execute_result"
    }
   ],
   "source": [
    "def grades_data(grades):\n",
    "    data = {}\n",
    "    \n",
    "    for grade in grades:\n",
    "        example_naep_query = (\n",
    "            'https://www.nationsreportcard.gov/'\n",
    "            'Dataservice/GetAdhocData.aspx?'\n",
    "            'type=data&subject=writing&grade&'\n",
    "            'subscale=WRIRP&variable=GENDER&jurisdiction=NP&stattype=MN:MN&Year=2011')\n",
    "        response = requests.get(example_naep_query)\n",
    "        \n",
    "        try:\n",
    "            grade_data = response.json()\n",
    "            data[grade] = grade_data\n",
    "        except Exception as e:\n",
    "            print('Failed to get result from API due to error:')\n",
    "            print(e)\n",
    "    return data\n",
    "\n",
    "grades = [4, 8, 12]\n",
    "grades_data(grades)\n",
    "\n",
    "## I needed to get the right URL - look at solutions"
   ]
  },
  {
   "cell_type": "markdown",
   "metadata": {},
   "source": [
    "# 2. Example 2: needs credentials; no wrapper"
   ]
  },
  {
   "cell_type": "markdown",
   "metadata": {},
   "source": [
    "Create an account here: https://www.yelp.com/developers/v3/manage_app"
   ]
  },
  {
   "cell_type": "code",
   "execution_count": null,
   "metadata": {},
   "outputs": [],
   "source": [
    "## get the key\n",
    "API_KEY = \"PASTE KEY HERE\""
   ]
  },
  {
   "cell_type": "code",
   "execution_count": null,
   "metadata": {},
   "outputs": [],
   "source": [
    "## use documentation to define what to search\n",
    "## doc: https://www.yelp.com/developers/documentation/v3/business_search\n",
    "## write the query \n",
    "base_url = \"https://api.yelp.com/v3/businesses/search?\"\n",
    "my_name = \"restaurants\"\n",
    "my_location = \"Hanover,NH,03755\"\n",
    "yelp_genquery = ('{base_url}'\n",
    "                'term={name}'\n",
    "                '&location={loc}').format(base_url = base_url,\n",
    "                name = my_name,\n",
    "                loc = my_location)\n",
    "\n",
    "## use requests to call the API; here, we're\n",
    "## passing it our credentials (structure varies\n",
    "## by API and telling it to only return 10 results\n",
    "## (max is 50 at once)\n",
    "header = {'Authorization': f\"Bearer {API_KEY}\"}\n",
    "yelp_genresp = requests.get(yelp_genquery, headers = header)\n",
    "yelp_genresp\n",
    "\n",
    "## then, look at structure of response\n",
    "yelp_genjson = yelp_genresp.json()\n"
   ]
  },
  {
   "cell_type": "code",
   "execution_count": null,
   "metadata": {},
   "outputs": [],
   "source": [
    "## example business\n",
    "yelp_genjson['businesses'][0]\n",
    "\n",
    "## more automatic way of summarizing but things end up in lists\n",
    "## within columns for things like categories\n",
    "yelp_gendf = pd.DataFrame(yelp_genjson['businesses'])\n",
    "yelp_gendf.head()"
   ]
  },
  {
   "cell_type": "code",
   "execution_count": null,
   "metadata": {},
   "outputs": [],
   "source": [
    "## more data-specific way of summarizing\n",
    "## we're doing a simple approach and just retaining\n",
    "## cols that have a simple str structure\n",
    "## if doing for real, would want to extract things\n",
    "def clean_yelp_json(one_biz):\n",
    "\n",
    "    ## restrict to str cols\n",
    "    d_str = {key:value for key, value in one_biz.items()\n",
    "             if type(value) == str}\n",
    "    \n",
    "    df_str = pd.DataFrame(d_str, index = [d_str['id']])\n",
    "    return(df_str)\n",
    "\n",
    "yelp_stronly = [clean_yelp_json(one_b) for one_b in yelp_genjson['businesses']]\n",
    "yelp_stronly_df = pd.concat(yelp_stronly)\n",
    "\n",
    "yelp_stronly_df.head(7)\n"
   ]
  },
  {
   "cell_type": "markdown",
   "metadata": {},
   "source": [
    "# Activity 2: pull restaurants in a different location\n",
    "\n",
    "- Try running a business search query for your hometown or another place by constructing a query similar to `yelp_genquery` but changing the location parameter\n",
    "- Other endpoints require feeding what's called the business' fusion id into the API. Take an id from `yelp_stronly.id` and use the documentation here to pull the reviews for that business: https://docs.developer.yelp.com/reference/v3_business_reviews\n",
    "- **Challenge**: generalize the previous step by writing a function that (1) takes a list of business ids as an input, (2) calls the reviews API for each id, (3) returns the results, and (4) rowbinds all results, i.e. turns them into a single, usable DataFrame"
   ]
  },
  {
   "cell_type": "code",
   "execution_count": 25,
   "metadata": {},
   "outputs": [
    {
     "data": {
      "text/plain": [
       "<Response [200]>"
      ]
     },
     "execution_count": 25,
     "metadata": {},
     "output_type": "execute_result"
    }
   ],
   "source": [
    "API_KEY = \"1Gh9eKod5_-vX1otu_KEzcFphmJC58Kwb2qsJbcKPn76WUI7eW6biYfFe6R6Pmx_7NRaaQraF-Co_eLwcjvLl-DGQ4A0wHE8Z6WlFm9Bum6lEFvh9wiLufavouMtZXYx\"\n",
    "\n",
    "# new location\n",
    "\n",
    "base_url = \"https://api.yelp.com/v3/businesses/search?\"\n",
    "my_name = \"restaurants\"\n",
    "my_location = \"Pitsea,Essex,SS13 2AJ\"\n",
    "yelp_genquery = ('{base_url}'\n",
    "                'term={name}'\n",
    "                '&location={loc}').format(base_url = base_url,\n",
    "                name = my_name,\n",
    "                loc = my_location)\n",
    "\n",
    "header = {'Authorization': f\"Bearer {API_KEY}\"}\n",
    "yelp_genresp = requests.get(yelp_genquery, headers = header)\n",
    "yelp_genresp\n",
    "\n",
    "## then, look at structure of response\n",
    "yelp_genjson = yelp_genresp.json()\n",
    "\n"
   ]
  },
  {
   "cell_type": "code",
   "execution_count": 26,
   "metadata": {},
   "outputs": [
    {
     "data": {
      "text/plain": [
       "{'id': 'vmYD90yeG5dHj5UmppKjqQ',\n",
       " 'alias': 'domino-s-basildon',\n",
       " 'name': 'Domino’s',\n",
       " 'image_url': 'https://s3-media2.fl.yelpcdn.com/bphoto/w6zSi7feoTX-ed_61qxSgg/o.jpg',\n",
       " 'is_closed': False,\n",
       " 'url': 'https://www.yelp.com/biz/domino-s-basildon?adjust_creative=AYAiHNSGxz_RRHzq3cO46w&utm_campaign=yelp_api_v3&utm_medium=api_v3_business_search&utm_source=AYAiHNSGxz_RRHzq3cO46w',\n",
       " 'review_count': 1,\n",
       " 'categories': [{'alias': 'pizza', 'title': 'Pizza'}],\n",
       " 'rating': 1.0,\n",
       " 'coordinates': {'latitude': 51.5645332648766, 'longitude': 0.504321381675753},\n",
       " 'transactions': [],\n",
       " 'location': {'address1': '26-28 Station Lane',\n",
       "  'address2': '',\n",
       "  'address3': None,\n",
       "  'city': 'Basildon',\n",
       "  'zip_code': 'SS13 3BG',\n",
       "  'country': 'GB',\n",
       "  'state': 'ESS',\n",
       "  'display_address': ['26-28 Station Lane',\n",
       "   'Basildon SS13 3BG',\n",
       "   'United Kingdom']},\n",
       " 'phone': '+441268556555',\n",
       " 'display_phone': '+44 1268 556555',\n",
       " 'distance': 1020.8399986553987}"
      ]
     },
     "execution_count": 26,
     "metadata": {},
     "output_type": "execute_result"
    },
    {
     "data": {
      "text/html": [
       "<div>\n",
       "<style scoped>\n",
       "    .dataframe tbody tr th:only-of-type {\n",
       "        vertical-align: middle;\n",
       "    }\n",
       "\n",
       "    .dataframe tbody tr th {\n",
       "        vertical-align: top;\n",
       "    }\n",
       "\n",
       "    .dataframe thead th {\n",
       "        text-align: right;\n",
       "    }\n",
       "</style>\n",
       "<table border=\"1\" class=\"dataframe\">\n",
       "  <thead>\n",
       "    <tr style=\"text-align: right;\">\n",
       "      <th></th>\n",
       "      <th>id</th>\n",
       "      <th>alias</th>\n",
       "      <th>name</th>\n",
       "      <th>image_url</th>\n",
       "      <th>is_closed</th>\n",
       "      <th>url</th>\n",
       "      <th>review_count</th>\n",
       "      <th>categories</th>\n",
       "      <th>rating</th>\n",
       "      <th>coordinates</th>\n",
       "      <th>transactions</th>\n",
       "      <th>location</th>\n",
       "      <th>phone</th>\n",
       "      <th>display_phone</th>\n",
       "      <th>distance</th>\n",
       "      <th>price</th>\n",
       "    </tr>\n",
       "  </thead>\n",
       "  <tbody>\n",
       "    <tr>\n",
       "      <th>0</th>\n",
       "      <td>vmYD90yeG5dHj5UmppKjqQ</td>\n",
       "      <td>domino-s-basildon</td>\n",
       "      <td>Domino’s</td>\n",
       "      <td>https://s3-media2.fl.yelpcdn.com/bphoto/w6zSi7...</td>\n",
       "      <td>False</td>\n",
       "      <td>https://www.yelp.com/biz/domino-s-basildon?adj...</td>\n",
       "      <td>1</td>\n",
       "      <td>[{'alias': 'pizza', 'title': 'Pizza'}]</td>\n",
       "      <td>1.0</td>\n",
       "      <td>{'latitude': 51.5645332648766, 'longitude': 0....</td>\n",
       "      <td>[]</td>\n",
       "      <td>{'address1': '26-28 Station Lane', 'address2':...</td>\n",
       "      <td>+441268556555</td>\n",
       "      <td>+44 1268 556555</td>\n",
       "      <td>1020.839999</td>\n",
       "      <td>NaN</td>\n",
       "    </tr>\n",
       "    <tr>\n",
       "      <th>1</th>\n",
       "      <td>TytCwDOTkTGbhzwbgKcNZA</td>\n",
       "      <td>beefeater-grill-basildon</td>\n",
       "      <td>Beefeater Grill</td>\n",
       "      <td></td>\n",
       "      <td>False</td>\n",
       "      <td>https://www.yelp.com/biz/beefeater-grill-basil...</td>\n",
       "      <td>1</td>\n",
       "      <td>[{'alias': 'steak', 'title': 'Steakhouses'}]</td>\n",
       "      <td>2.0</td>\n",
       "      <td>{'latitude': 51.5858076, 'longitude': 0.498689}</td>\n",
       "      <td>[]</td>\n",
       "      <td>{'address1': 'East Mayne Basildon', 'address2'...</td>\n",
       "      <td>+441268522227</td>\n",
       "      <td>+44 1268 522227</td>\n",
       "      <td>1634.202611</td>\n",
       "      <td>NaN</td>\n",
       "    </tr>\n",
       "    <tr>\n",
       "      <th>2</th>\n",
       "      <td>ba0QR9llW5Ux-xA6Lu4ngw</td>\n",
       "      <td>mintoos-tandoori-basildon</td>\n",
       "      <td>Mintoos Tandoori</td>\n",
       "      <td></td>\n",
       "      <td>False</td>\n",
       "      <td>https://www.yelp.com/biz/mintoos-tandoori-basi...</td>\n",
       "      <td>1</td>\n",
       "      <td>[{'alias': 'indpak', 'title': 'Indian'}, {'ali...</td>\n",
       "      <td>5.0</td>\n",
       "      <td>{'latitude': 51.5822124, 'longitude': 0.4876271}</td>\n",
       "      <td>[]</td>\n",
       "      <td>{'address1': '94 Whitmore Way', 'address2': No...</td>\n",
       "      <td>+441268284193</td>\n",
       "      <td>+44 1268 284193</td>\n",
       "      <td>1867.198027</td>\n",
       "      <td>££</td>\n",
       "    </tr>\n",
       "    <tr>\n",
       "      <th>3</th>\n",
       "      <td>K-wdOhqtfSLZiLU7S6zNHQ</td>\n",
       "      <td>neds-noodle-bar-basildon</td>\n",
       "      <td>ned's noodle bar</td>\n",
       "      <td></td>\n",
       "      <td>False</td>\n",
       "      <td>https://www.yelp.com/biz/neds-noodle-bar-basil...</td>\n",
       "      <td>2</td>\n",
       "      <td>[{'alias': 'restaurants', 'title': 'Restaurant...</td>\n",
       "      <td>3.0</td>\n",
       "      <td>{'latitude': 51.5730896, 'longitude': 0.46428}</td>\n",
       "      <td>[]</td>\n",
       "      <td>{'address1': 'Unit 3 The Food Terrace', 'addre...</td>\n",
       "      <td>+441268522228</td>\n",
       "      <td>+44 1268 522228</td>\n",
       "      <td>1521.905203</td>\n",
       "      <td>NaN</td>\n",
       "    </tr>\n",
       "    <tr>\n",
       "      <th>4</th>\n",
       "      <td>VdPM-3S1rF1ebCoXkgrX-Q</td>\n",
       "      <td>dil-tandoori-basildon</td>\n",
       "      <td>Dil Tandoori</td>\n",
       "      <td></td>\n",
       "      <td>False</td>\n",
       "      <td>https://www.yelp.com/biz/dil-tandoori-basildon...</td>\n",
       "      <td>1</td>\n",
       "      <td>[{'alias': 'indpak', 'title': 'Indian'}, {'ali...</td>\n",
       "      <td>3.0</td>\n",
       "      <td>{'latitude': 51.5651516, 'longitude': 0.5071876}</td>\n",
       "      <td>[]</td>\n",
       "      <td>{'address1': '79 High Road', 'address2': None,...</td>\n",
       "      <td>+441268584858</td>\n",
       "      <td>+44 1268 584858</td>\n",
       "      <td>892.663110</td>\n",
       "      <td>NaN</td>\n",
       "    </tr>\n",
       "  </tbody>\n",
       "</table>\n",
       "</div>"
      ],
      "text/plain": [
       "                       id                      alias              name  \\\n",
       "0  vmYD90yeG5dHj5UmppKjqQ          domino-s-basildon          Domino’s   \n",
       "1  TytCwDOTkTGbhzwbgKcNZA   beefeater-grill-basildon   Beefeater Grill   \n",
       "2  ba0QR9llW5Ux-xA6Lu4ngw  mintoos-tandoori-basildon  Mintoos Tandoori   \n",
       "3  K-wdOhqtfSLZiLU7S6zNHQ   neds-noodle-bar-basildon  ned's noodle bar   \n",
       "4  VdPM-3S1rF1ebCoXkgrX-Q      dil-tandoori-basildon      Dil Tandoori   \n",
       "\n",
       "                                           image_url  is_closed  \\\n",
       "0  https://s3-media2.fl.yelpcdn.com/bphoto/w6zSi7...      False   \n",
       "1                                                         False   \n",
       "2                                                         False   \n",
       "3                                                         False   \n",
       "4                                                         False   \n",
       "\n",
       "                                                 url  review_count  \\\n",
       "0  https://www.yelp.com/biz/domino-s-basildon?adj...             1   \n",
       "1  https://www.yelp.com/biz/beefeater-grill-basil...             1   \n",
       "2  https://www.yelp.com/biz/mintoos-tandoori-basi...             1   \n",
       "3  https://www.yelp.com/biz/neds-noodle-bar-basil...             2   \n",
       "4  https://www.yelp.com/biz/dil-tandoori-basildon...             1   \n",
       "\n",
       "                                          categories  rating  \\\n",
       "0             [{'alias': 'pizza', 'title': 'Pizza'}]     1.0   \n",
       "1       [{'alias': 'steak', 'title': 'Steakhouses'}]     2.0   \n",
       "2  [{'alias': 'indpak', 'title': 'Indian'}, {'ali...     5.0   \n",
       "3  [{'alias': 'restaurants', 'title': 'Restaurant...     3.0   \n",
       "4  [{'alias': 'indpak', 'title': 'Indian'}, {'ali...     3.0   \n",
       "\n",
       "                                         coordinates transactions  \\\n",
       "0  {'latitude': 51.5645332648766, 'longitude': 0....           []   \n",
       "1    {'latitude': 51.5858076, 'longitude': 0.498689}           []   \n",
       "2   {'latitude': 51.5822124, 'longitude': 0.4876271}           []   \n",
       "3     {'latitude': 51.5730896, 'longitude': 0.46428}           []   \n",
       "4   {'latitude': 51.5651516, 'longitude': 0.5071876}           []   \n",
       "\n",
       "                                            location          phone  \\\n",
       "0  {'address1': '26-28 Station Lane', 'address2':...  +441268556555   \n",
       "1  {'address1': 'East Mayne Basildon', 'address2'...  +441268522227   \n",
       "2  {'address1': '94 Whitmore Way', 'address2': No...  +441268284193   \n",
       "3  {'address1': 'Unit 3 The Food Terrace', 'addre...  +441268522228   \n",
       "4  {'address1': '79 High Road', 'address2': None,...  +441268584858   \n",
       "\n",
       "     display_phone     distance price  \n",
       "0  +44 1268 556555  1020.839999   NaN  \n",
       "1  +44 1268 522227  1634.202611   NaN  \n",
       "2  +44 1268 284193  1867.198027    ££  \n",
       "3  +44 1268 522228  1521.905203   NaN  \n",
       "4  +44 1268 584858   892.663110   NaN  "
      ]
     },
     "execution_count": 26,
     "metadata": {},
     "output_type": "execute_result"
    }
   ],
   "source": [
    "## example business\n",
    "yelp_genjson['businesses'][0]\n",
    "\n",
    "## more automatic way of summarizing but things end up in lists\n",
    "## within columns for things like categories\n",
    "yelp_gendf = pd.DataFrame(yelp_genjson['businesses'])\n",
    "yelp_gendf.head()"
   ]
  },
  {
   "cell_type": "code",
   "execution_count": 24,
   "metadata": {},
   "outputs": [
    {
     "data": {
      "text/html": [
       "<div>\n",
       "<style scoped>\n",
       "    .dataframe tbody tr th:only-of-type {\n",
       "        vertical-align: middle;\n",
       "    }\n",
       "\n",
       "    .dataframe tbody tr th {\n",
       "        vertical-align: top;\n",
       "    }\n",
       "\n",
       "    .dataframe thead th {\n",
       "        text-align: right;\n",
       "    }\n",
       "</style>\n",
       "<table border=\"1\" class=\"dataframe\">\n",
       "  <thead>\n",
       "    <tr style=\"text-align: right;\">\n",
       "      <th></th>\n",
       "      <th>id</th>\n",
       "      <th>alias</th>\n",
       "      <th>name</th>\n",
       "      <th>image_url</th>\n",
       "      <th>url</th>\n",
       "      <th>phone</th>\n",
       "      <th>display_phone</th>\n",
       "      <th>price</th>\n",
       "    </tr>\n",
       "  </thead>\n",
       "  <tbody>\n",
       "    <tr>\n",
       "      <th>vmYD90yeG5dHj5UmppKjqQ</th>\n",
       "      <td>vmYD90yeG5dHj5UmppKjqQ</td>\n",
       "      <td>domino-s-basildon</td>\n",
       "      <td>Domino’s</td>\n",
       "      <td>https://s3-media2.fl.yelpcdn.com/bphoto/w6zSi7...</td>\n",
       "      <td>https://www.yelp.com/biz/domino-s-basildon?adj...</td>\n",
       "      <td>+441268556555</td>\n",
       "      <td>+44 1268 556555</td>\n",
       "      <td>NaN</td>\n",
       "    </tr>\n",
       "    <tr>\n",
       "      <th>TytCwDOTkTGbhzwbgKcNZA</th>\n",
       "      <td>TytCwDOTkTGbhzwbgKcNZA</td>\n",
       "      <td>beefeater-grill-basildon</td>\n",
       "      <td>Beefeater Grill</td>\n",
       "      <td></td>\n",
       "      <td>https://www.yelp.com/biz/beefeater-grill-basil...</td>\n",
       "      <td>+441268522227</td>\n",
       "      <td>+44 1268 522227</td>\n",
       "      <td>NaN</td>\n",
       "    </tr>\n",
       "    <tr>\n",
       "      <th>ba0QR9llW5Ux-xA6Lu4ngw</th>\n",
       "      <td>ba0QR9llW5Ux-xA6Lu4ngw</td>\n",
       "      <td>mintoos-tandoori-basildon</td>\n",
       "      <td>Mintoos Tandoori</td>\n",
       "      <td></td>\n",
       "      <td>https://www.yelp.com/biz/mintoos-tandoori-basi...</td>\n",
       "      <td>+441268284193</td>\n",
       "      <td>+44 1268 284193</td>\n",
       "      <td>££</td>\n",
       "    </tr>\n",
       "    <tr>\n",
       "      <th>K-wdOhqtfSLZiLU7S6zNHQ</th>\n",
       "      <td>K-wdOhqtfSLZiLU7S6zNHQ</td>\n",
       "      <td>neds-noodle-bar-basildon</td>\n",
       "      <td>ned's noodle bar</td>\n",
       "      <td></td>\n",
       "      <td>https://www.yelp.com/biz/neds-noodle-bar-basil...</td>\n",
       "      <td>+441268522228</td>\n",
       "      <td>+44 1268 522228</td>\n",
       "      <td>NaN</td>\n",
       "    </tr>\n",
       "    <tr>\n",
       "      <th>VdPM-3S1rF1ebCoXkgrX-Q</th>\n",
       "      <td>VdPM-3S1rF1ebCoXkgrX-Q</td>\n",
       "      <td>dil-tandoori-basildon</td>\n",
       "      <td>Dil Tandoori</td>\n",
       "      <td></td>\n",
       "      <td>https://www.yelp.com/biz/dil-tandoori-basildon...</td>\n",
       "      <td>+441268584858</td>\n",
       "      <td>+44 1268 584858</td>\n",
       "      <td>NaN</td>\n",
       "    </tr>\n",
       "    <tr>\n",
       "      <th>cJxq-FSAESemcRpFeJj8zg</th>\n",
       "      <td>cJxq-FSAESemcRpFeJj8zg</td>\n",
       "      <td>subway-basildon</td>\n",
       "      <td>Subway</td>\n",
       "      <td></td>\n",
       "      <td>https://www.yelp.com/biz/subway-basildon?adjus...</td>\n",
       "      <td>+441268557755</td>\n",
       "      <td>+44 1268 557755</td>\n",
       "      <td>NaN</td>\n",
       "    </tr>\n",
       "    <tr>\n",
       "      <th>4cV2mWv4m9juL_2Lmi2rcQ</th>\n",
       "      <td>4cV2mWv4m9juL_2Lmi2rcQ</td>\n",
       "      <td>asia-spice-basildon</td>\n",
       "      <td>asia spice</td>\n",
       "      <td></td>\n",
       "      <td>https://www.yelp.com/biz/asia-spice-basildon?a...</td>\n",
       "      <td></td>\n",
       "      <td></td>\n",
       "      <td>NaN</td>\n",
       "    </tr>\n",
       "  </tbody>\n",
       "</table>\n",
       "</div>"
      ],
      "text/plain": [
       "                                            id                      alias  \\\n",
       "vmYD90yeG5dHj5UmppKjqQ  vmYD90yeG5dHj5UmppKjqQ          domino-s-basildon   \n",
       "TytCwDOTkTGbhzwbgKcNZA  TytCwDOTkTGbhzwbgKcNZA   beefeater-grill-basildon   \n",
       "ba0QR9llW5Ux-xA6Lu4ngw  ba0QR9llW5Ux-xA6Lu4ngw  mintoos-tandoori-basildon   \n",
       "K-wdOhqtfSLZiLU7S6zNHQ  K-wdOhqtfSLZiLU7S6zNHQ   neds-noodle-bar-basildon   \n",
       "VdPM-3S1rF1ebCoXkgrX-Q  VdPM-3S1rF1ebCoXkgrX-Q      dil-tandoori-basildon   \n",
       "cJxq-FSAESemcRpFeJj8zg  cJxq-FSAESemcRpFeJj8zg            subway-basildon   \n",
       "4cV2mWv4m9juL_2Lmi2rcQ  4cV2mWv4m9juL_2Lmi2rcQ        asia-spice-basildon   \n",
       "\n",
       "                                    name  \\\n",
       "vmYD90yeG5dHj5UmppKjqQ          Domino’s   \n",
       "TytCwDOTkTGbhzwbgKcNZA   Beefeater Grill   \n",
       "ba0QR9llW5Ux-xA6Lu4ngw  Mintoos Tandoori   \n",
       "K-wdOhqtfSLZiLU7S6zNHQ  ned's noodle bar   \n",
       "VdPM-3S1rF1ebCoXkgrX-Q      Dil Tandoori   \n",
       "cJxq-FSAESemcRpFeJj8zg            Subway   \n",
       "4cV2mWv4m9juL_2Lmi2rcQ        asia spice   \n",
       "\n",
       "                                                                image_url  \\\n",
       "vmYD90yeG5dHj5UmppKjqQ  https://s3-media2.fl.yelpcdn.com/bphoto/w6zSi7...   \n",
       "TytCwDOTkTGbhzwbgKcNZA                                                      \n",
       "ba0QR9llW5Ux-xA6Lu4ngw                                                      \n",
       "K-wdOhqtfSLZiLU7S6zNHQ                                                      \n",
       "VdPM-3S1rF1ebCoXkgrX-Q                                                      \n",
       "cJxq-FSAESemcRpFeJj8zg                                                      \n",
       "4cV2mWv4m9juL_2Lmi2rcQ                                                      \n",
       "\n",
       "                                                                      url  \\\n",
       "vmYD90yeG5dHj5UmppKjqQ  https://www.yelp.com/biz/domino-s-basildon?adj...   \n",
       "TytCwDOTkTGbhzwbgKcNZA  https://www.yelp.com/biz/beefeater-grill-basil...   \n",
       "ba0QR9llW5Ux-xA6Lu4ngw  https://www.yelp.com/biz/mintoos-tandoori-basi...   \n",
       "K-wdOhqtfSLZiLU7S6zNHQ  https://www.yelp.com/biz/neds-noodle-bar-basil...   \n",
       "VdPM-3S1rF1ebCoXkgrX-Q  https://www.yelp.com/biz/dil-tandoori-basildon...   \n",
       "cJxq-FSAESemcRpFeJj8zg  https://www.yelp.com/biz/subway-basildon?adjus...   \n",
       "4cV2mWv4m9juL_2Lmi2rcQ  https://www.yelp.com/biz/asia-spice-basildon?a...   \n",
       "\n",
       "                                phone    display_phone price  \n",
       "vmYD90yeG5dHj5UmppKjqQ  +441268556555  +44 1268 556555   NaN  \n",
       "TytCwDOTkTGbhzwbgKcNZA  +441268522227  +44 1268 522227   NaN  \n",
       "ba0QR9llW5Ux-xA6Lu4ngw  +441268284193  +44 1268 284193    ££  \n",
       "K-wdOhqtfSLZiLU7S6zNHQ  +441268522228  +44 1268 522228   NaN  \n",
       "VdPM-3S1rF1ebCoXkgrX-Q  +441268584858  +44 1268 584858   NaN  \n",
       "cJxq-FSAESemcRpFeJj8zg  +441268557755  +44 1268 557755   NaN  \n",
       "4cV2mWv4m9juL_2Lmi2rcQ                                   NaN  "
      ]
     },
     "execution_count": 24,
     "metadata": {},
     "output_type": "execute_result"
    }
   ],
   "source": [
    "def clean_yelp_json(one_biz):\n",
    "\n",
    "    ## restrict to str cols\n",
    "    d_str = {key:value for key, value in one_biz.items()\n",
    "             if type(value) == str}\n",
    "    \n",
    "    df_str = pd.DataFrame(d_str, index = [d_str['id']])\n",
    "    return(df_str)\n",
    "\n",
    "yelp_stronly = [clean_yelp_json(one_b) for one_b in yelp_genjson['businesses']]\n",
    "yelp_stronly_df = pd.concat(yelp_stronly)\n",
    "\n",
    "yelp_stronly_df.head(7)\n"
   ]
  },
  {
   "cell_type": "code",
   "execution_count": 30,
   "metadata": {},
   "outputs": [
    {
     "name": "stdout",
     "output_type": "stream",
     "text": [
      "{\"reviews\": [{\"id\": \"xDZONSOhpHD5lgU9xuLIsg\", \"url\": \"https://www.yelp.com/biz/subway-basildon?adjust_creative=AYAiHNSGxz_RRHzq3cO46w&hrid=xDZONSOhpHD5lgU9xuLIsg&utm_campaign=yelp_api_v3&utm_medium=api_v3_business_reviews&utm_source=AYAiHNSGxz_RRHzq3cO46w\", \"text\": \"Not bad it's a subway so you know what your getting. Issue with this particular one is first visit out of meatballs second visit out of turkey third visit...\", \"rating\": 3, \"time_created\": \"2017-10-24 11:59:59\", \"user\": {\"id\": \"A3nTfTjTcKLw1BkuUlYSCA\", \"profile_url\": \"https://www.yelp.com/user_details?userid=A3nTfTjTcKLw1BkuUlYSCA\", \"image_url\": null, \"name\": \"Timothy T.\"}}, {\"id\": \"0pZ4y0l-t1_1xw-buaX1yg\", \"url\": \"https://www.yelp.com/biz/subway-basildon?adjust_creative=AYAiHNSGxz_RRHzq3cO46w&hrid=0pZ4y0l-t1_1xw-buaX1yg&utm_campaign=yelp_api_v3&utm_medium=api_v3_business_reviews&utm_source=AYAiHNSGxz_RRHzq3cO46w\", \"text\": \"This Subway has recently re opened. The new staff are very friendly and helpful.\\n\\nIt is clean and the food is good! Well it's a subway say no more....\", \"rating\": 4, \"time_created\": \"2012-07-14 17:39:51\", \"user\": {\"id\": \"zeKw64OAlObiVDhvQbZv9Q\", \"profile_url\": \"https://www.yelp.com/user_details?userid=zeKw64OAlObiVDhvQbZv9Q\", \"image_url\": null, \"name\": \"Daryl P.\"}}, {\"id\": \"iB-4wBmDOOktyF7iUUGXkg\", \"url\": \"https://www.yelp.com/biz/subway-basildon?adjust_creative=AYAiHNSGxz_RRHzq3cO46w&hrid=iB-4wBmDOOktyF7iUUGXkg&utm_campaign=yelp_api_v3&utm_medium=api_v3_business_reviews&utm_source=AYAiHNSGxz_RRHzq3cO46w\", \"text\": \"Decent I like really do like a subway. This ones just what you expect.\", \"rating\": 4, \"time_created\": \"2010-10-17 06:12:27\", \"user\": {\"id\": \"wpTmrqZQ6mIbWL-jYQKptw\", \"profile_url\": \"https://www.yelp.com/user_details?userid=wpTmrqZQ6mIbWL-jYQKptw\", \"image_url\": null, \"name\": \"iamdarren\"}}], \"total\": 3, \"possible_languages\": [\"en\"]}\n"
     ]
    }
   ],
   "source": [
    "import requests\n",
    "\n",
    "url = \"https://api.yelp.com/v3/businesses/cJxq-FSAESemcRpFeJj8zg/reviews?limit=20&sort_by=yelp_sort\"\n",
    "\n",
    "headers = {\"accept\": \"application/json\"}\n",
    "\n",
    "response = requests.get(url, headers= header)\n",
    "\n",
    "print(response.text)"
   ]
  },
  {
   "cell_type": "code",
   "execution_count": null,
   "metadata": {},
   "outputs": [],
   "source": []
  }
 ],
 "metadata": {
  "kernelspec": {
   "display_name": "Python 3 (ipykernel)",
   "language": "python",
   "name": "python3"
  },
  "language_info": {
   "codemirror_mode": {
    "name": "ipython",
    "version": 3
   },
   "file_extension": ".py",
   "mimetype": "text/x-python",
   "name": "python",
   "nbconvert_exporter": "python",
   "pygments_lexer": "ipython3",
   "version": "3.9.1"
  }
 },
 "nbformat": 4,
 "nbformat_minor": 4
}
